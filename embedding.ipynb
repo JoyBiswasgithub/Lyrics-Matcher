{
  "cells": [
    {
      "cell_type": "code",
      "execution_count": 2,
      "metadata": {
        "id": "5nAwy7dK4TZ2"
      },
      "outputs": [
        {
          "name": "stderr",
          "output_type": "stream",
          "text": [
            "c:\\Users\\Joy Biswas\\OneDrive\\Desktop\\lyrics to song\\venv\\Lib\\site-packages\\tqdm\\auto.py:21: TqdmWarning: IProgress not found. Please update jupyter and ipywidgets. See https://ipywidgets.readthedocs.io/en/stable/user_install.html\n",
            "  from .autonotebook import tqdm as notebook_tqdm\n"
          ]
        }
      ],
      "source": [
        "import numpy as np\n",
        "import pandas as pd\n",
        "import torch\n",
        "from sentence_transformers import SentenceTransformer, util"
      ]
    },
    {
      "cell_type": "code",
      "execution_count": 7,
      "metadata": {
        "id": "N7S87j1i5_Jh"
      },
      "outputs": [],
      "source": [
        "# Load dataset\n",
        "data = pd.read_csv(\"processed_songs.csv\")"
      ]
    },
    {
      "cell_type": "code",
      "execution_count": 13,
      "metadata": {
        "colab": {
          "base_uri": "https://localhost:8080/",
          "height": 206
        },
        "id": "0TFjczvj6C3Q",
        "outputId": "ebcd4557-2bf9-467c-bc3d-a45aed1559ef"
      },
      "outputs": [
        {
          "data": {
            "text/html": [
              "<div>\n",
              "<style scoped>\n",
              "    .dataframe tbody tr th:only-of-type {\n",
              "        vertical-align: middle;\n",
              "    }\n",
              "\n",
              "    .dataframe tbody tr th {\n",
              "        vertical-align: top;\n",
              "    }\n",
              "\n",
              "    .dataframe thead th {\n",
              "        text-align: right;\n",
              "    }\n",
              "</style>\n",
              "<table border=\"1\" class=\"dataframe\">\n",
              "  <thead>\n",
              "    <tr style=\"text-align: right;\">\n",
              "      <th></th>\n",
              "      <th>artist</th>\n",
              "      <th>song</th>\n",
              "      <th>text</th>\n",
              "    </tr>\n",
              "  </thead>\n",
              "  <tbody>\n",
              "    <tr>\n",
              "      <th>0</th>\n",
              "      <td>ABBA</td>\n",
              "      <td>Ahe's My Kind Of Girl</td>\n",
              "      <td>look at her face, it's a wonderful face   and ...</td>\n",
              "    </tr>\n",
              "    <tr>\n",
              "      <th>1</th>\n",
              "      <td>ABBA</td>\n",
              "      <td>Andante, Andante</td>\n",
              "      <td>take it easy with me, please   touch me gently...</td>\n",
              "    </tr>\n",
              "    <tr>\n",
              "      <th>2</th>\n",
              "      <td>ABBA</td>\n",
              "      <td>As Good As New</td>\n",
              "      <td>i'll never know why i had to go   why i had to...</td>\n",
              "    </tr>\n",
              "    <tr>\n",
              "      <th>3</th>\n",
              "      <td>ABBA</td>\n",
              "      <td>Bang</td>\n",
              "      <td>making somebody happy is a question of give an...</td>\n",
              "    </tr>\n",
              "    <tr>\n",
              "      <th>4</th>\n",
              "      <td>ABBA</td>\n",
              "      <td>Bang-A-Boomerang</td>\n",
              "      <td>making somebody happy is a question of give an...</td>\n",
              "    </tr>\n",
              "  </tbody>\n",
              "</table>\n",
              "</div>"
            ],
            "text/plain": [
              "  artist                   song  \\\n",
              "0   ABBA  Ahe's My Kind Of Girl   \n",
              "1   ABBA       Andante, Andante   \n",
              "2   ABBA         As Good As New   \n",
              "3   ABBA                   Bang   \n",
              "4   ABBA       Bang-A-Boomerang   \n",
              "\n",
              "                                                text  \n",
              "0  look at her face, it's a wonderful face   and ...  \n",
              "1  take it easy with me, please   touch me gently...  \n",
              "2  i'll never know why i had to go   why i had to...  \n",
              "3  making somebody happy is a question of give an...  \n",
              "4  making somebody happy is a question of give an...  "
            ]
          },
          "execution_count": 13,
          "metadata": {},
          "output_type": "execute_result"
        }
      ],
      "source": [
        "data.head()"
      ]
    },
    {
      "cell_type": "code",
      "execution_count": 14,
      "metadata": {
        "colab": {
          "base_uri": "https://localhost:8080/"
        },
        "id": "Io9tK4446Eph",
        "outputId": "1b138ccb-a7b9-457e-d1bb-0949880a3e98"
      },
      "outputs": [
        {
          "data": {
            "text/plain": [
              "(57650, 3)"
            ]
          },
          "execution_count": 14,
          "metadata": {},
          "output_type": "execute_result"
        }
      ],
      "source": [
        "data.shape"
      ]
    },
    {
      "cell_type": "markdown",
      "metadata": {
        "id": "8vlIzz39-b1i"
      },
      "source": [
        "# Use pre-trained Sentence Transformer model for converting data into Embedding"
      ]
    },
    {
      "cell_type": "code",
      "execution_count": 15,
      "metadata": {
        "id": "bBKfFvUa6K5q"
      },
      "outputs": [],
      "source": [
        "model = SentenceTransformer('all-MiniLM-L6-v2')"
      ]
    },
    {
      "cell_type": "code",
      "execution_count": null,
      "metadata": {},
      "outputs": [],
      "source": [
        "# Save the model\n",
        "model.save(\"sentence_transformer_model\")"
      ]
    },
    {
      "cell_type": "markdown",
      "metadata": {
        "id": "lFteAIx9-Yqy"
      },
      "source": [
        "# Convert lyrics to embeddings"
      ]
    },
    {
      "cell_type": "code",
      "execution_count": 17,
      "metadata": {
        "id": "WgDUWPb86RMy"
      },
      "outputs": [],
      "source": [
        "data['embedding'] = data['text'].apply(lambda x: model.encode(str(x), convert_to_tensor=True))\n"
      ]
    },
    {
      "cell_type": "markdown",
      "metadata": {
        "id": "DgGf0eRM-Uty"
      },
      "source": [
        "# Store embeddings and song details"
      ]
    },
    {
      "cell_type": "code",
      "execution_count": 19,
      "metadata": {
        "id": "OjsmU7Eh9ans"
      },
      "outputs": [],
      "source": [
        "embeddings = torch.stack(data['embedding'].tolist())\n",
        "song_info = data[['artist', 'song']]\n",
        "\n",
        "# Save embeddings and song details\n",
        "torch.save(embeddings, \"embeddings.pt\")\n",
        "song_info.to_csv(\"song_info.csv\", index=False)"
      ]
    },
    {
      "cell_type": "markdown",
      "metadata": {
        "id": "tA_jCdcU-78V"
      },
      "source": [
        "# Load embeddings and song details"
      ]
    },
    {
      "cell_type": "code",
      "execution_count": 3,
      "metadata": {},
      "outputs": [],
      "source": [
        "# Load the saved model\n",
        "model = SentenceTransformer(\"sentence_transformer_model\")"
      ]
    },
    {
      "cell_type": "code",
      "execution_count": 4,
      "metadata": {
        "colab": {
          "base_uri": "https://localhost:8080/"
        },
        "id": "FJrLcKfJ9wUX",
        "outputId": "798d6c64-863a-41d6-8e18-0d927ba35b2b"
      },
      "outputs": [],
      "source": [
        "embeddings = torch.load(\"embeddings.pt\")\n",
        "song_info = pd.read_csv(\"song_info.csv\")"
      ]
    },
    {
      "cell_type": "markdown",
      "metadata": {
        "id": "Q-NWsCVZ-5SV"
      },
      "source": [
        "# Find the most similar song"
      ]
    },
    {
      "cell_type": "code",
      "execution_count": 5,
      "metadata": {
        "id": "n5WDRRYD945H"
      },
      "outputs": [],
      "source": [
        "def find_similar_song(lyrics, top_k=5):\n",
        "    input_embedding = model.encode(lyrics, convert_to_tensor=True)\n",
        "    similarities = util.pytorch_cos_sim(input_embedding, embeddings)[0]\n",
        "    top_results = torch.topk(similarities, k=top_k)\n",
        "\n",
        "    results = []\n",
        "    for idx in top_results.indices.tolist():  # Convert tensor indices to list\n",
        "        results.append({\n",
        "            \"artist\": song_info.iloc[idx]['artist'],\n",
        "            \"song\": song_info.iloc[idx]['song'],\n",
        "            \"score\": similarities[idx].item()\n",
        "        })\n",
        "\n",
        "    return results"
      ]
    },
    {
      "cell_type": "markdown",
      "metadata": {
        "id": "3JnD5bps_B7-"
      },
      "source": [
        "# **Testing**"
      ]
    },
    {
      "cell_type": "code",
      "execution_count": 21,
      "metadata": {
        "colab": {
          "base_uri": "https://localhost:8080/",
          "height": 139
        },
        "id": "EQA8788b_VTX",
        "outputId": "eafd6063-3b3b-43ba-f679-3700bd969b2b"
      },
      "outputs": [
        {
          "data": {
            "text/plain": [
              "\"the autumn evenings filled with copper shades   i see the birds' neck in the frame   a figure walks into the sunset   someone goes past suspended from the sky      takes more imagination   when everything's remote control   for me it's just a case of   what's on the far side of the road      tell everybody   i'm going away for ten years   i'm going to wander   among the wicklow hills      the travelling children in their sunday clothes   lost on the corner of the street   fat gypsy lady smacks the windowpane   a farm dog gets out on the motorway      takes more imagination   when everything's remote control   for me it's just a case of   what's on the far side of the road      tell everybody   i'm going away for ten years   i'm going to wander   among the wicklow hills\""
            ]
          },
          "execution_count": 21,
          "metadata": {},
          "output_type": "execute_result"
        }
      ],
      "source": [
        "data['text'][3000]"
      ]
    },
    {
      "cell_type": "code",
      "execution_count": 22,
      "metadata": {
        "colab": {
          "base_uri": "https://localhost:8080/",
          "height": 35
        },
        "id": "yY0M6To0_agH",
        "outputId": "98281549-d7ee-4da3-d144-ad9608c7884f"
      },
      "outputs": [
        {
          "data": {
            "text/plain": [
              "'Among The Wicklow Hills'"
            ]
          },
          "execution_count": 22,
          "metadata": {},
          "output_type": "execute_result"
        }
      ],
      "source": [
        "data['song'][3000]"
      ]
    },
    {
      "cell_type": "code",
      "execution_count": 23,
      "metadata": {
        "colab": {
          "base_uri": "https://localhost:8080/"
        },
        "id": "xzgdyA_G4TXn",
        "outputId": "00215d0b-7a58-403f-b6aa-b0d01b495c74"
      },
      "outputs": [
        {
          "name": "stdout",
          "output_type": "stream",
          "text": [
            "Among The Wicklow Hills by Christy Moore (Similarity: 0.5197)\n",
            "Always Crashing In The Same Car by David Bowie (Similarity: 0.4898)\n",
            "The Overload by Talking Heads (Similarity: 0.4582)\n",
            "Open Road by Wishbone Ash (Similarity: 0.4494)\n",
            "Runaway by Chris Rea (Similarity: 0.4484)\n"
          ]
        }
      ],
      "source": [
        "lyrics = \"takes more imagination   when everything's remote control   for me it's just a case of   what's on the far side of the road\"\n",
        "recommendations = find_similar_song(lyrics)\n",
        "for rec in recommendations:\n",
        "    print(f\"{rec['song']} by {rec['artist']} (Similarity: {rec['score']:.4f})\")\n"
      ]
    },
    {
      "cell_type": "code",
      "execution_count": 26,
      "metadata": {},
      "outputs": [
        {
          "data": {
            "text/plain": [
              "[{'artist': 'Christy Moore',\n",
              "  'song': 'Among The Wicklow Hills',\n",
              "  'score': 0.519721508026123},\n",
              " {'artist': 'David Bowie',\n",
              "  'song': 'Always Crashing In The Same Car',\n",
              "  'score': 0.48983657360076904},\n",
              " {'artist': 'Talking Heads',\n",
              "  'song': 'The Overload',\n",
              "  'score': 0.45820149779319763},\n",
              " {'artist': 'Wishbone Ash', 'song': 'Open Road', 'score': 0.4494209885597229},\n",
              " {'artist': 'Chris Rea', 'song': 'Runaway', 'score': 0.4484301209449768}]"
            ]
          },
          "execution_count": 26,
          "metadata": {},
          "output_type": "execute_result"
        }
      ],
      "source": [
        "recommendations"
      ]
    },
    {
      "cell_type": "code",
      "execution_count": 28,
      "metadata": {},
      "outputs": [
        {
          "data": {
            "text/plain": [
              "0.519721508026123"
            ]
          },
          "execution_count": 28,
          "metadata": {},
          "output_type": "execute_result"
        }
      ],
      "source": [
        "recommendations[0]['score']"
      ]
    },
    {
      "cell_type": "code",
      "execution_count": 24,
      "metadata": {},
      "outputs": [
        {
          "data": {
            "text/plain": [
              "'Among The Wicklow Hills'"
            ]
          },
          "execution_count": 24,
          "metadata": {},
          "output_type": "execute_result"
        }
      ],
      "source": [
        "max(recommendations, key=lambda x: x['score'])['song']"
      ]
    },
    {
      "cell_type": "code",
      "execution_count": 25,
      "metadata": {},
      "outputs": [
        {
          "data": {
            "text/plain": [
              "[{'artist': 'Chris Rea', 'song': 'Runaway', 'score': 0.4484301209449768},\n",
              " {'artist': 'Wishbone Ash', 'song': 'Open Road', 'score': 0.4494209885597229},\n",
              " {'artist': 'Talking Heads',\n",
              "  'song': 'The Overload',\n",
              "  'score': 0.45820149779319763},\n",
              " {'artist': 'David Bowie',\n",
              "  'song': 'Always Crashing In The Same Car',\n",
              "  'score': 0.48983657360076904},\n",
              " {'artist': 'Christy Moore',\n",
              "  'song': 'Among The Wicklow Hills',\n",
              "  'score': 0.519721508026123}]"
            ]
          },
          "execution_count": 25,
          "metadata": {},
          "output_type": "execute_result"
        }
      ],
      "source": [
        "sorted(recommendations, key=lambda x: x['score'])"
      ]
    },
    {
      "cell_type": "code",
      "execution_count": null,
      "metadata": {},
      "outputs": [],
      "source": []
    }
  ],
  "metadata": {
    "accelerator": "GPU",
    "colab": {
      "gpuType": "T4",
      "provenance": []
    },
    "kernelspec": {
      "display_name": "venv",
      "language": "python",
      "name": "python3"
    },
    "language_info": {
      "codemirror_mode": {
        "name": "ipython",
        "version": 3
      },
      "file_extension": ".py",
      "mimetype": "text/x-python",
      "name": "python",
      "nbconvert_exporter": "python",
      "pygments_lexer": "ipython3",
      "version": "3.12.7"
    }
  },
  "nbformat": 4,
  "nbformat_minor": 0
}
